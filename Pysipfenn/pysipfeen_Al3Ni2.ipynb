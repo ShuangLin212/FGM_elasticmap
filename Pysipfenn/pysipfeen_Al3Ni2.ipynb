{
 "cells": [
  {
   "cell_type": "code",
   "execution_count": 1,
   "metadata": {},
   "outputs": [
    {
     "name": "stderr",
     "output_type": "stream",
     "text": [
      "/Library/Frameworks/Python.framework/Versions/3.9/lib/python3.9/site-packages/tqdm/auto.py:22: TqdmWarning: IProgress not found. Please update jupyter and ipywidgets. See https://ipywidgets.readthedocs.io/en/stable/user_install.html\n",
      "  from .autonotebook import tqdm as notebook_tqdm\n"
     ]
    }
   ],
   "source": [
    "import pysipfenn\n",
    "from pysipfenn import Calculator     # The only thing needed for calculations\n",
    "from pprint import pprint            # pretty printing\n",
    "from collections import defaultdict  # convenience in the example\n",
    "import numpy as np\n",
    "import os\n",
    "import glob\n",
    "import pandas as pd\n",
    "import shutil\n",
    "import matplotlib.pyplot as plt\n",
    "from pymatgen.entries.computed_entries import ComputedEntry\n",
    "from pymatgen.analysis.phase_diagram import PhaseDiagram, PDPlotter\n",
    "from pymatgen.core.composition import Composition"
   ]
  },
  {
   "cell_type": "markdown",
   "metadata": {},
   "source": [
    "## Donwload and load the models"
   ]
  },
  {
   "cell_type": "code",
   "execution_count": 2,
   "metadata": {},
   "outputs": [
    {
     "name": "stdout",
     "output_type": "stream",
     "text": [
      "✔ SIPFENN_Krajewski2020 Standard Materials Model\n",
      "✔ SIPFENN_Krajewski2020 Novel Materials Model\n",
      "✔ SIPFENN_Krajewski2020 Light Model\n",
      "✔ SIPFENN_Krajewski2022 KS2022 Novel Materials Model\n",
      "Loading models:\n"
     ]
    },
    {
     "name": "stderr",
     "output_type": "stream",
     "text": [
      "100%|██████████| 4/4 [00:24<00:00,  6.11s/it]"
     ]
    },
    {
     "name": "stdout",
     "output_type": "stream",
     "text": [
      "*********  PySIPFENN Successfully Initialized  **********\n"
     ]
    },
    {
     "name": "stderr",
     "output_type": "stream",
     "text": [
      "\n"
     ]
    }
   ],
   "source": [
    "#c.downloadModels() # download models from the server\n",
    "c = Calculator() # load models from the local cache"
   ]
  },
  {
   "cell_type": "markdown",
   "metadata": {},
   "source": [
    "## Define the POSCAR directory name"
   ]
  },
  {
   "cell_type": "code",
   "execution_count": 3,
   "metadata": {},
   "outputs": [],
   "source": [
    "# Endmembers directory name\n",
    "endmembers = \"Al3Ni2_endmembers\"\n",
    "\n",
    "# dilute directory name\n",
    "dilute = \"Al3Ni2_dilute\"\n",
    "\n",
    "#SQS directory name\n",
    "SQS = \"Al3Ni_SQS\""
   ]
  },
  {
   "cell_type": "markdown",
   "metadata": {},
   "source": [
    "## Run and save the pysipfenn results in csv"
   ]
  },
  {
   "cell_type": "code",
   "execution_count": 4,
   "metadata": {},
   "outputs": [
    {
     "name": "stdout",
     "output_type": "stream",
     "text": [
      "Importing structures...\n"
     ]
    },
    {
     "name": "stderr",
     "output_type": "stream",
     "text": [
      "100%|██████████| 27/27 [00:00<00:00, 112.00it/s]\n"
     ]
    },
    {
     "name": "stdout",
     "output_type": "stream",
     "text": [
      "\n",
      "Models that will be run: ['SIPFENN_Krajewski2022_NN30']\n",
      "Calculating descriptors...\n"
     ]
    },
    {
     "name": "stderr",
     "output_type": "stream",
     "text": [
      "100%|██████████| 27/27 [00:04<00:00,  5.65it/s]\n"
     ]
    },
    {
     "name": "stdout",
     "output_type": "stream",
     "text": [
      "Done!\n",
      "Making predictions...\n",
      "Obtained predictions from:  SIPFENN_Krajewski2022_NN30\n",
      "Done!\n"
     ]
    }
   ],
   "source": [
    "#pysipfenn endmembers results   \n",
    "c.runFromDirectory(directory=endmembers,\n",
    "                   descriptor='KS2022', # descriptor to use may try other model descriptor \"Ward2017\"\n",
    "                   mode='serial');\n",
    "c.writeResultsToCSV(endmembers+'_pySIPFENN.csv')"
   ]
  },
  {
   "cell_type": "code",
   "execution_count": 5,
   "metadata": {},
   "outputs": [
    {
     "name": "stdout",
     "output_type": "stream",
     "text": [
      "Importing structures...\n"
     ]
    },
    {
     "name": "stderr",
     "output_type": "stream",
     "text": [
      "100%|██████████| 162/162 [00:00<00:00, 2290.81it/s]\n"
     ]
    },
    {
     "name": "stdout",
     "output_type": "stream",
     "text": [
      "\n",
      "Models that will be run: ['SIPFENN_Krajewski2022_NN30']\n",
      "Calculating descriptors...\n"
     ]
    },
    {
     "name": "stderr",
     "output_type": "stream",
     "text": [
      "100%|██████████| 162/162 [00:33<00:00,  4.78it/s]\n"
     ]
    },
    {
     "name": "stdout",
     "output_type": "stream",
     "text": [
      "Done!\n",
      "Making predictions...\n",
      "Obtained predictions from:  SIPFENN_Krajewski2022_NN30\n",
      "Done!\n"
     ]
    }
   ],
   "source": [
    "#pysipfenn dilute results   \n",
    "c.runFromDirectory(directory=dilute,\n",
    "                   descriptor='KS2022',\n",
    "                   mode='serial');\n",
    "c.writeResultsToCSV(dilute+'_pySIPFENN.csv')"
   ]
  },
  {
   "cell_type": "markdown",
   "metadata": {},
   "source": [
    "## Define the concentration and process POSCAR file function"
   ]
  },
  {
   "cell_type": "code",
   "execution_count": 6,
   "metadata": {},
   "outputs": [],
   "source": [
    "# Function to parse POSCAR and extract atomic counts\n",
    "def extract_atom_counts(poscar_path):\n",
    "    with open(poscar_path, 'r') as file:\n",
    "        lines = file.readlines()\n",
    "        atom_types = lines[5].split()  # This line contains the atomic species\n",
    "        atom_counts = list(map(int, lines[6].split()))  # This line contains their respective counts\n",
    "    return dict(zip(atom_types, atom_counts))\n",
    "\n",
    "# Function to calculate concentrations of all elements\n",
    "def calculate_concentrations(atom_counts):\n",
    "    total_atoms = sum(atom_counts.values())\n",
    "    concentrations = {element: (count / total_atoms) * 100 for element, count in atom_counts.items()}\n",
    "    return concentrations\n",
    "\n",
    "# Function to process all POSCAR files in given directories and save results to CSV\n",
    "def process_poscar_files_to_csv(directories, output_csv):\n",
    "    # Create a list to store the data for the CSV\n",
    "    data = []\n",
    "    \n",
    "    for directory in directories:\n",
    "        # Verify the directory exists\n",
    "        if not os.path.exists(directory):\n",
    "            print(f\"Directory not found: {directory}\")\n",
    "            continue\n",
    "        \n",
    "        # Find all files ending with .POSCAR in the directory\n",
    "        poscar_files = glob.glob(os.path.join(directory, '*.POSCAR'))\n",
    "        \n",
    "        # Check if any .POSCAR files were found\n",
    "        if not poscar_files:\n",
    "            print(f\"No .POSCAR files found in directory: {directory}\")\n",
    "            continue\n",
    "        \n",
    "        for poscar_path in poscar_files:\n",
    "            try:\n",
    "                atom_counts = extract_atom_counts(poscar_path)\n",
    "                concentrations = calculate_concentrations(atom_counts)\n",
    "                \n",
    "                # Extract concentrations for Al, Fe, and Ni (default to 0 if not present)\n",
    "                al_concentration = concentrations.get('Al', 0)\n",
    "                fe_concentration = concentrations.get('Fe', 0)\n",
    "                ni_concentration = concentrations.get('Ni', 0)\n",
    "                \n",
    "                # Get the filename and append the data\n",
    "                filename = os.path.basename(poscar_path)\n",
    "                data.append([filename, al_concentration, fe_concentration, ni_concentration])\n",
    "            \n",
    "            except Exception as e:\n",
    "                print(f\"Error processing file {poscar_path}: {e}\")\n",
    "    \n",
    "    # Create a DataFrame from the collected data\n",
    "    df = pd.DataFrame(data, columns=['Name', 'Al Concentration (%)', 'Fe Concentration (%)', 'Ni Concentration (%)'])\n",
    "    \n",
    "    # Save to CSV\n",
    "    df.to_csv(output_csv, index=False)\n",
    "    return df\n"
   ]
  },
  {
   "cell_type": "markdown",
   "metadata": {},
   "source": [
    "## Cleaned format of CSV"
   ]
  },
  {
   "cell_type": "code",
   "execution_count": 7,
   "metadata": {},
   "outputs": [],
   "source": [
    "# Example usage\n",
    "directories = [endmembers,dilute ]  # Add all your directories here\n",
    "output_csv = 'poscar_concentrations_updated.csv'\n",
    "df_result = process_poscar_files_to_csv(directories, output_csv)\n",
    "\n",
    "\n",
    "# Load the three CSV files\n",
    "poscar_df = pd.read_csv(output_csv)\n",
    "endmembers_df = pd.read_csv(endmembers+'_pySIPFENN.csv')\n",
    "dilute_df = pd.read_csv(dilute+'_pySIPFENN.csv')\n",
    "\n",
    "# Strip any whitespace from column headers to avoid mismatches\n",
    "poscar_df.columns = poscar_df.columns.str.strip()\n",
    "endmembers_df.columns = endmembers_df.columns.str.strip()\n",
    "dilute_df.columns = dilute_df.columns.str.strip()\n",
    "\n",
    "# Merge the endmembers_df into poscar_df based on the 'Name' column\n",
    "merged_df = poscar_df.merge(endmembers_df[['Name', 'SIPFENN_Krajewski2022_NN30']], on='Name', how='left')\n",
    "\n",
    "# Merge the dilute_df into the already merged dataframe\n",
    "# Suffixes to differentiate the columns, also could be SQS\n",
    "merged_df = merged_df.merge(dilute_df[['Name', 'SIPFENN_Krajewski2022_NN30']], on='Name', how='left', suffixes=('_endmembers', '_dilute'))  \n",
    "\n",
    "# You can choose how to handle the two different columns from endmembers and dilute data, \n",
    "# here I'm just choosing to replace the values in 'Formation_H' from the first merge\n",
    "merged_df['Formation_H'] = merged_df['SIPFENN_Krajewski2022_NN30_endmembers'].combine_first(merged_df['SIPFENN_Krajewski2022_NN30_dilute'])\n",
    "\n",
    "# Save the final merged DataFrame\n",
    "merged_df.to_csv('poscar_concentrations_updated_with_Formation_H.csv', index=False)\n",
    "\n"
   ]
  },
  {
   "cell_type": "markdown",
   "metadata": {},
   "source": [
    "## Ploting"
   ]
  },
  {
   "cell_type": "code",
   "execution_count": 8,
   "metadata": {},
   "outputs": [
    {
     "data": {
      "application/vnd.plotly.v1+json": {
       "config": {
        "plotlyServerURL": "https://plot.ly"
       },
       "data": [
        {
         "hoverinfo": "none",
         "line": {
          "color": "rgba(0,0,0,1.0)",
          "width": 7
         },
         "mode": "lines",
         "showlegend": false,
         "type": "scatter3d",
         "x": [
          0.5196152422706631,
          0,
          null,
          0.34641016151377546,
          0,
          null,
          0.34641016151377546,
          0,
          null,
          0,
          0.34641016151377546,
          null,
          0,
          0,
          null,
          0.34641016151377546,
          0,
          null,
          0,
          0,
          null,
          0.34641016151377546,
          0,
          null,
          0,
          0,
          null,
          0.6928203230275509,
          0,
          null,
          0.6928203230275509,
          0.5196152422706631,
          null,
          0.5196152422706631,
          0.34641016151377546,
          null,
          0,
          0,
          null,
          0.6928203230275509,
          0.8660254037844386,
          null,
          0.8660254037844386,
          0,
          null
         ],
         "y": [
          0.3,
          1,
          null,
          0.2,
          0,
          null,
          0.2,
          0.2,
          null,
          0.8,
          0.2,
          null,
          0.4,
          0.2,
          null,
          0.2,
          0.4,
          null,
          0.2,
          0,
          null,
          0.2,
          1,
          null,
          0.8,
          1,
          null,
          0.4,
          1,
          null,
          0.4,
          0.3,
          null,
          0.3,
          0.2,
          null,
          0.8,
          0.4,
          null,
          0.4,
          0.5,
          null,
          0.5,
          1,
          null
         ],
         "z": [
          -0.5768097624182701,
          0,
          null,
          -0.7324770145118236,
          0,
          null,
          -0.7324770145118236,
          -0.3503243207931518,
          null,
          -0.1847133001312614,
          -0.7324770145118236,
          null,
          -0.4466404788196086,
          -0.3503243207931518,
          null,
          -0.7324770145118236,
          -0.4466404788196086,
          null,
          -0.3503243207931518,
          0,
          null,
          -0.7324770145118236,
          0,
          null,
          -0.1847133001312614,
          0,
          null,
          -0.3795231945812701,
          0,
          null,
          -0.3795231945812701,
          -0.5768097624182701,
          null,
          -0.5768097624182701,
          -0.7324770145118236,
          null,
          -0.1847133001312614,
          -0.4466404788196086,
          null,
          -0.3795231945812701,
          0,
          null,
          0,
          0,
          null
         ]
        },
        {
         "hoverinfo": "none",
         "line": {
          "color": "rgba (0, 0, 0, 0.4)",
          "dash": "solid",
          "width": 1
         },
         "mode": "lines",
         "showlegend": false,
         "type": "scatter3d",
         "x": [
          0.8660254037844386,
          0,
          null,
          0.8660254037844386,
          0,
          null,
          0.8660254037844386,
          0,
          null,
          0.8660254037844386,
          0,
          null,
          0,
          0,
          null,
          0,
          0,
          null,
          0.8660254037844386,
          0.8660254037844386,
          null,
          0,
          0,
          null,
          0,
          0,
          null
         ],
         "y": [
          0.5,
          1,
          null,
          0.5,
          1,
          null,
          0.5,
          0,
          null,
          0.5,
          0,
          null,
          1,
          0,
          null,
          1,
          0,
          null,
          0.5,
          0.5,
          null,
          1,
          1,
          null,
          0,
          0,
          null
         ],
         "z": [
          0,
          0,
          null,
          -0.7324770145118236,
          -0.7324770145118236,
          null,
          0,
          0,
          null,
          -0.7324770145118236,
          -0.7324770145118236,
          null,
          0,
          0,
          null,
          -0.7324770145118236,
          -0.7324770145118236,
          null,
          0,
          -0.7324770145118236,
          null,
          0,
          -0.7324770145118236,
          null,
          0,
          -0.7324770145118236,
          null
         ]
        },
        {
         "colorbar": {
          "len": 0.75,
          "title": {
           "text": "Formation energy<br>(eV/atom)"
          },
          "x": 0.9
         },
         "colorscale": [
          [
           0,
           "#0c8c00"
          ],
          [
           0.5,
           "#d8ffd4"
          ],
          [
           1,
           "#ffffff"
          ]
         ],
         "flatshading": true,
         "hoverinfo": "none",
         "i": [
          15,
          9,
          15,
          13,
          13,
          9,
          11
         ],
         "intensity": [
          -0.3795231945812701,
          -0.3363994486629962,
          -0.27702216431498516,
          -0.14074458777904514,
          -0.1847133001312614,
          -0.5768097624182701,
          -0.45051095336675634,
          -0.3351194515824317,
          -0.06360220313072211,
          -0.7324770145118236,
          -0.5692684762179852,
          -0.4466404788196086,
          -0.362267506122589,
          -0.3503243207931518,
          0,
          0,
          0
         ],
         "j": [
          5,
          5,
          14,
          11,
          16,
          4,
          4
         ],
         "k": [
          0,
          15,
          0,
          9,
          9,
          15,
          9
         ],
         "lighting": {
          "ambient": 1,
          "diffuse": 0
         },
         "name": "Convex Hull (shading)",
         "opacity": 0.8,
         "showlegend": true,
         "type": "mesh3d",
         "x": [
          0.6928203230275509,
          0.5196152422706631,
          0.34641016151377546,
          0.17320508075688773,
          0,
          0.5196152422706631,
          0.34641016151377546,
          0.17320508075688773,
          0,
          0.34641016151377546,
          0.17320508075688773,
          0,
          0.17320508075688773,
          0,
          0.8660254037844386,
          0,
          0
         ],
         "y": [
          0.4,
          0.5,
          0.6000000000000001,
          0.7,
          0.8,
          0.3,
          0.4,
          0.5,
          0.6,
          0.2,
          0.30000000000000004,
          0.4,
          0.1,
          0.2,
          0.5,
          1,
          0
         ],
         "z": [
          -0.3795231945812701,
          -0.3363994486629962,
          -0.27702216431498516,
          -0.14074458777904514,
          -0.1847133001312614,
          -0.5768097624182701,
          -0.45051095336675634,
          -0.3351194515824317,
          -0.06360220313072211,
          -0.7324770145118236,
          -0.5692684762179852,
          -0.4466404788196086,
          -0.362267506122589,
          -0.3503243207931518,
          0,
          0,
          0
         ]
        },
        {
         "hoverinfo": "skip",
         "mode": "text",
         "name": "Labels (stable)",
         "opacity": 1,
         "showlegend": true,
         "text": [
          "Al<sub>0.4</sub>Ni<sub>0.6</sub>",
          "Al<sub>0.6</sub>Ni<sub>0.4</sub>",
          "Al<sub>0.8</sub>Fe<sub>0.2</sub>",
          "Al<sub>0.2</sub>Fe<sub>0.8</sub>",
          "Al<sub>0.6</sub>Fe<sub>0.4</sub>",
          "Al<sub>0.2</sub>Ni<sub>0.8</sub>"
         ],
         "textposition": [
          "middle center",
          "middle center",
          "middle center",
          "middle center",
          "middle center",
          "middle center"
         ],
         "type": "scatter3d",
         "visible": true,
         "x": [
          0.5096152422706631,
          0.35641016151377547,
          0.01,
          0.01,
          0.01,
          0.6828203230275509
         ],
         "y": [
          0.29,
          0.19,
          0.19,
          0.81,
          0.39,
          0.39
         ],
         "z": [
          -0.5035620609670878,
          -0.6592293130606413,
          -0.2770766193419694,
          -0.11146559868007903,
          -0.37339277736842624,
          -0.30627549313008773
         ]
        },
        {
         "hoverinfo": "text",
         "hoverlabel": {
          "font": {
           "size": 14
          }
         },
         "hovertext": [
          "Ni (None) <br> 0.0 eV/atom (+0.0 eV/atom)",
          "Fe<sub>0.2</sub>Ni<sub>0.8</sub> (None) <br> 0.073 eV/atom (+0.073 eV/atom)",
          "Fe<sub>0.2</sub>Ni<sub>0.8</sub> (None) <br> 0.075 eV/atom (+0.075 eV/atom)",
          "Fe<sub>0.2</sub>Ni<sub>0.8</sub> (None) <br> 0.068 eV/atom (+0.068 eV/atom)",
          "Fe<sub>0.4</sub>Ni<sub>0.6</sub> (None) <br> 0.125 eV/atom (+0.125 eV/atom)",
          "Fe<sub>0.4</sub>Ni<sub>0.6</sub> (None) <br> 0.135 eV/atom (+0.135 eV/atom)",
          "Fe<sub>0.4</sub>Ni<sub>0.6</sub> (None) <br> 0.158 eV/atom (+0.158 eV/atom)",
          "Fe<sub>0.4</sub>Ni<sub>0.6</sub> (None) <br> 0.117 eV/atom (+0.117 eV/atom)",
          "Fe<sub>0.6</sub>Ni<sub>0.4</sub> (None) <br> 0.087 eV/atom (+0.087 eV/atom)",
          "Fe<sub>0.6</sub>Ni<sub>0.4</sub> (None) <br> 0.105 eV/atom (+0.105 eV/atom)",
          "Fe<sub>0.6</sub>Ni<sub>0.4</sub> (None) <br> 0.093 eV/atom (+0.093 eV/atom)",
          "Fe<sub>0.6</sub>Ni<sub>0.4</sub> (None) <br> 0.113 eV/atom (+0.113 eV/atom)",
          "Fe<sub>0.8</sub>Ni<sub>0.2</sub> (None) <br> 0.05 eV/atom (+0.05 eV/atom)",
          "Fe<sub>0.8</sub>Ni<sub>0.2</sub> (None) <br> 0.052 eV/atom (+0.052 eV/atom)",
          "Fe<sub>0.8</sub>Ni<sub>0.2</sub> (None) <br> 0.044 eV/atom (+0.044 eV/atom)",
          "Al<sub>0.2</sub>Ni<sub>0.8</sub> (None) <br> -0.372 eV/atom (+0.007 eV/atom)",
          "Al<sub>0.2</sub>Ni<sub>0.8</sub> (None) <br> -0.349 eV/atom (+0.031 eV/atom)",
          "Al<sub>0.2</sub>Fe<sub>0.2</sub>Ni<sub>0.6</sub> (None) <br> -0.325 eV/atom (+0.018 eV/atom)",
          "Al<sub>0.2</sub>Fe<sub>0.2</sub>Ni<sub>0.6</sub> (None) <br> -0.321 eV/atom (+0.022 eV/atom)",
          "Al<sub>0.2</sub>Fe<sub>0.2</sub>Ni<sub>0.6</sub> (None) <br> -0.309 eV/atom (+0.034 eV/atom)",
          "Al<sub>0.2</sub>Fe<sub>0.2</sub>Ni<sub>0.6</sub> (None) <br> -0.275 eV/atom (+0.069 eV/atom)",
          "Al<sub>0.2</sub>Fe<sub>0.2</sub>Ni<sub>0.6</sub> (None) <br> -0.336 eV/atom (+0.007 eV/atom)",
          "Al<sub>0.2</sub>Fe<sub>0.2</sub>Ni<sub>0.6</sub> (None) <br> -0.307 eV/atom (+0.036 eV/atom)",
          "Al<sub>0.2</sub>Fe<sub>0.4</sub>Ni<sub>0.4</sub> (None) <br> -0.218 eV/atom (+0.089 eV/atom)",
          "Al<sub>0.2</sub>Fe<sub>0.4</sub>Ni<sub>0.4</sub> (None) <br> -0.277 eV/atom (+0.03 eV/atom)",
          "Al<sub>0.2</sub>Fe<sub>0.4</sub>Ni<sub>0.4</sub> (None) <br> -0.237 eV/atom (+0.069 eV/atom)",
          "Al<sub>0.2</sub>Fe<sub>0.4</sub>Ni<sub>0.4</sub> (None) <br> -0.268 eV/atom (+0.039 eV/atom)",
          "Al<sub>0.2</sub>Fe<sub>0.4</sub>Ni<sub>0.4</sub> (None) <br> -0.239 eV/atom (+0.068 eV/atom)",
          "Al<sub>0.2</sub>Fe<sub>0.4</sub>Ni<sub>0.4</sub> (None) <br> -0.241 eV/atom (+0.066 eV/atom)",
          "Al<sub>0.2</sub>Fe<sub>0.6</sub>Ni<sub>0.2</sub> (None) <br> -0.136 eV/atom (+0.125 eV/atom)",
          "Al<sub>0.2</sub>Fe<sub>0.6</sub>Ni<sub>0.2</sub> (None) <br> -0.141 eV/atom (+0.121 eV/atom)",
          "Al<sub>0.2</sub>Fe<sub>0.6</sub>Ni<sub>0.2</sub> (None) <br> -0.106 eV/atom (+0.156 eV/atom)",
          "Al<sub>0.2</sub>Fe<sub>0.6</sub>Ni<sub>0.2</sub> (None) <br> -0.106 eV/atom (+0.156 eV/atom)",
          "Al<sub>0.2</sub>Fe<sub>0.6</sub>Ni<sub>0.2</sub> (None) <br> -0.11 eV/atom (+0.152 eV/atom)",
          "Al<sub>0.2</sub>Fe<sub>0.6</sub>Ni<sub>0.2</sub> (None) <br> -0.141 eV/atom (+0.121 eV/atom)",
          "Al<sub>0.2</sub>Fe<sub>0.8</sub> (None) <br> -0.178 eV/atom (+0.007 eV/atom)",
          "Al<sub>0.2</sub>Fe<sub>0.8</sub> (None) <br> -0.161 eV/atom (+0.024 eV/atom)",
          "Al<sub>0.4</sub>Ni<sub>0.6</sub> (None) <br> -0.293 eV/atom (+0.284 eV/atom)",
          "Al<sub>0.4</sub>Ni<sub>0.6</sub> (None) <br> -0.507 eV/atom (+0.07 eV/atom)",
          "Al<sub>0.4</sub>Ni<sub>0.6</sub> (None) <br> -0.577 eV/atom (+0.0 eV/atom)",
          "Al<sub>0.4</sub>Ni<sub>0.6</sub> (None) <br> -0.33 eV/atom (+0.246 eV/atom)",
          "Al<sub>0.4</sub>Fe<sub>0.2</sub>Ni<sub>0.4</sub> (None) <br> -0.451 eV/atom (+0.073 eV/atom)",
          "Al<sub>0.4</sub>Fe<sub>0.2</sub>Ni<sub>0.4</sub> (None) <br> -0.353 eV/atom (+0.17 eV/atom)",
          "Al<sub>0.4</sub>Fe<sub>0.2</sub>Ni<sub>0.4</sub> (None) <br> -0.328 eV/atom (+0.195 eV/atom)",
          "Al<sub>0.4</sub>Fe<sub>0.2</sub>Ni<sub>0.4</sub> (None) <br> -0.43 eV/atom (+0.094 eV/atom)",
          "Al<sub>0.4</sub>Fe<sub>0.2</sub>Ni<sub>0.4</sub> (None) <br> -0.447 eV/atom (+0.077 eV/atom)",
          "Al<sub>0.4</sub>Fe<sub>0.2</sub>Ni<sub>0.4</sub> (None) <br> -0.374 eV/atom (+0.15 eV/atom)",
          "Al<sub>0.4</sub>Fe<sub>0.4</sub>Ni<sub>0.2</sub> (None) <br> -0.335 eV/atom (+0.123 eV/atom)",
          "Al<sub>0.4</sub>Fe<sub>0.4</sub>Ni<sub>0.2</sub> (None) <br> -0.229 eV/atom (+0.229 eV/atom)",
          "Al<sub>0.4</sub>Fe<sub>0.4</sub>Ni<sub>0.2</sub> (None) <br> -0.238 eV/atom (+0.221 eV/atom)",
          "Al<sub>0.4</sub>Fe<sub>0.4</sub>Ni<sub>0.2</sub> (None) <br> -0.275 eV/atom (+0.184 eV/atom)",
          "Al<sub>0.4</sub>Fe<sub>0.4</sub>Ni<sub>0.2</sub> (None) <br> -0.257 eV/atom (+0.201 eV/atom)",
          "Al<sub>0.4</sub>Fe<sub>0.4</sub>Ni<sub>0.2</sub> (None) <br> -0.284 eV/atom (+0.174 eV/atom)",
          "Al<sub>0.4</sub>Fe<sub>0.6</sub> (None) <br> 0.076 eV/atom (+0.392 eV/atom)",
          "Al<sub>0.4</sub>Fe<sub>0.6</sub> (None) <br> -0.064 eV/atom (+0.252 eV/atom)",
          "Al<sub>0.4</sub>Fe<sub>0.6</sub> (None) <br> 0.02 eV/atom (+0.336 eV/atom)",
          "Al<sub>0.4</sub>Fe<sub>0.6</sub> (None) <br> 0.034 eV/atom (+0.35 eV/atom)",
          "Al<sub>0.6</sub>Ni<sub>0.4</sub> (None) <br> -0.581 eV/atom (+0.151 eV/atom)",
          "Al<sub>0.6</sub>Ni<sub>0.4</sub> (None) <br> -0.714 eV/atom (+0.018 eV/atom)",
          "Al<sub>0.6</sub>Ni<sub>0.4</sub> (None) <br> -0.575 eV/atom (+0.158 eV/atom)",
          "Al<sub>0.6</sub>Fe<sub>0.2</sub>Ni<sub>0.2</sub> (None) <br> -0.457 eV/atom (+0.133 eV/atom)",
          "Al<sub>0.6</sub>Fe<sub>0.2</sub>Ni<sub>0.2</sub> (None) <br> -0.569 eV/atom (+0.02 eV/atom)",
          "Al<sub>0.6</sub>Fe<sub>0.2</sub>Ni<sub>0.2</sub> (None) <br> -0.454 eV/atom (+0.135 eV/atom)",
          "Al<sub>0.6</sub>Fe<sub>0.2</sub>Ni<sub>0.2</sub> (None) <br> -0.475 eV/atom (+0.115 eV/atom)",
          "Al<sub>0.6</sub>Fe<sub>0.2</sub>Ni<sub>0.2</sub> (None) <br> -0.533 eV/atom (+0.056 eV/atom)",
          "Al<sub>0.6</sub>Fe<sub>0.2</sub>Ni<sub>0.2</sub> (None) <br> -0.567 eV/atom (+0.023 eV/atom)",
          "Al<sub>0.6</sub>Fe<sub>0.4</sub> (None) <br> -0.357 eV/atom (+0.089 eV/atom)",
          "Al<sub>0.6</sub>Fe<sub>0.4</sub> (None) <br> -0.388 eV/atom (+0.059 eV/atom)",
          "Al<sub>0.6</sub>Fe<sub>0.4</sub> (None) <br> -0.398 eV/atom (+0.049 eV/atom)",
          "Al<sub>0.8</sub>Ni<sub>0.2</sub> (None) <br> -0.344 eV/atom (+0.023 eV/atom)",
          "Al<sub>0.8</sub>Ni<sub>0.2</sub> (None) <br> -0.362 eV/atom (+0.004 eV/atom)",
          "Al<sub>0.8</sub>Ni<sub>0.2</sub> (None) <br> -0.289 eV/atom (+0.077 eV/atom)",
          "Al<sub>0.8</sub>Fe<sub>0.2</sub> (None) <br> -0.349 eV/atom (+0.001 eV/atom)",
          "Al<sub>0.8</sub>Fe<sub>0.2</sub> (None) <br> -0.349 eV/atom (+0.001 eV/atom)"
         ],
         "marker": {
          "color": [
           0,
           0.073,
           0.075,
           0.068,
           0.125,
           0.135,
           0.158,
           0.117,
           0.087,
           0.105,
           0.093,
           0.113,
           0.05,
           0.052,
           0.044,
           0.007,
           0.031,
           0.018,
           0.022,
           0.034,
           0.069,
           0.007,
           0.036,
           0.089,
           0.03,
           0.069,
           0.039,
           0.068,
           0.066,
           0.125,
           0.121,
           0.156,
           0.156,
           0.152,
           0.121,
           0.007,
           0.024,
           0.284,
           0.07,
           0,
           0.246,
           0.073,
           0.17,
           0.195,
           0.094,
           0.077,
           0.15,
           0.123,
           0.229,
           0.221,
           0.184,
           0.201,
           0.174,
           0.392,
           0.252,
           0.336,
           0.35,
           0.151,
           0.018,
           0.158,
           0.133,
           0.02,
           0.135,
           0.115,
           0.056,
           0.023,
           0.089,
           0.059,
           0.049,
           0.023,
           0.004,
           0.077,
           0.001,
           0.001
          ],
          "colorbar": {
           "len": 0.75,
           "title": {
            "text": "Energy Above Hull<br>(eV/atom)"
           },
           "x": 0.05
          },
          "colorscale": [
           [
            0,
            "#fad393"
           ],
           [
            0.5,
            "#ff813d"
           ],
           [
            1,
            "#ff0000"
           ]
          ],
          "size": 6,
          "symbol": "diamond"
         },
         "mode": "markers",
         "name": "Above Hull",
         "showlegend": true,
         "type": "scatter3d",
         "x": [
          0.8660254037844386,
          0.6928203230275509,
          0.6928203230275509,
          0.6928203230275509,
          0.5196152422706631,
          0.5196152422706631,
          0.5196152422706631,
          0.5196152422706631,
          0.34641016151377546,
          0.34641016151377546,
          0.34641016151377546,
          0.34641016151377546,
          0.17320508075688773,
          0.17320508075688773,
          0.17320508075688773,
          0.6928203230275509,
          0.6928203230275509,
          0.5196152422706631,
          0.5196152422706631,
          0.5196152422706631,
          0.5196152422706631,
          0.5196152422706631,
          0.5196152422706631,
          0.34641016151377546,
          0.34641016151377546,
          0.34641016151377546,
          0.34641016151377546,
          0.34641016151377546,
          0.34641016151377546,
          0.17320508075688773,
          0.17320508075688773,
          0.17320508075688773,
          0.17320508075688773,
          0.17320508075688773,
          0.17320508075688773,
          0,
          0,
          0.5196152422706631,
          0.5196152422706631,
          0.5196152422706631,
          0.5196152422706631,
          0.34641016151377546,
          0.34641016151377546,
          0.34641016151377546,
          0.34641016151377546,
          0.34641016151377546,
          0.34641016151377546,
          0.17320508075688773,
          0.17320508075688773,
          0.17320508075688773,
          0.17320508075688773,
          0.17320508075688773,
          0.17320508075688773,
          0,
          0,
          0,
          0,
          0.34641016151377546,
          0.34641016151377546,
          0.34641016151377546,
          0.17320508075688773,
          0.17320508075688773,
          0.17320508075688773,
          0.17320508075688773,
          0.17320508075688773,
          0.17320508075688773,
          0,
          0,
          0,
          0.17320508075688773,
          0.17320508075688773,
          0.17320508075688773,
          0,
          0
         ],
         "y": [
          0.5,
          0.6000000000000001,
          0.6000000000000001,
          0.6000000000000001,
          0.7,
          0.7,
          0.7,
          0.7,
          0.8,
          0.8,
          0.8,
          0.8,
          0.9,
          0.9,
          0.9,
          0.4,
          0.4,
          0.5,
          0.5,
          0.5,
          0.5,
          0.5,
          0.5,
          0.6000000000000001,
          0.6000000000000001,
          0.6000000000000001,
          0.6000000000000001,
          0.6000000000000001,
          0.6000000000000001,
          0.7,
          0.7,
          0.7,
          0.7,
          0.7,
          0.7,
          0.8,
          0.8,
          0.3,
          0.3,
          0.3,
          0.3,
          0.4,
          0.4,
          0.4,
          0.4,
          0.4,
          0.4,
          0.5,
          0.5,
          0.5,
          0.5,
          0.5,
          0.5,
          0.6,
          0.6,
          0.6,
          0.6,
          0.2,
          0.2,
          0.2,
          0.30000000000000004,
          0.30000000000000004,
          0.30000000000000004,
          0.30000000000000004,
          0.30000000000000004,
          0.30000000000000004,
          0.4,
          0.4,
          0.4,
          0.1,
          0.1,
          0.1,
          0.2,
          0.2
         ],
         "z": [
          0,
          0.073,
          0.075,
          0.068,
          0.125,
          0.135,
          0.158,
          0.117,
          0.087,
          0.105,
          0.093,
          0.113,
          0.05,
          0.052,
          0.044,
          -0.372,
          -0.349,
          -0.325,
          -0.321,
          -0.309,
          -0.275,
          -0.336,
          -0.307,
          -0.218,
          -0.277,
          -0.237,
          -0.268,
          -0.239,
          -0.241,
          -0.136,
          -0.141,
          -0.106,
          -0.106,
          -0.11,
          -0.141,
          -0.178,
          -0.161,
          -0.293,
          -0.507,
          -0.577,
          -0.33,
          -0.451,
          -0.353,
          -0.328,
          -0.43,
          -0.447,
          -0.374,
          -0.335,
          -0.229,
          -0.238,
          -0.275,
          -0.257,
          -0.284,
          0.076,
          -0.064,
          0.02,
          0.034,
          -0.581,
          -0.714,
          -0.575,
          -0.457,
          -0.569,
          -0.454,
          -0.475,
          -0.533,
          -0.567,
          -0.357,
          -0.388,
          -0.398,
          -0.344,
          -0.362,
          -0.289,
          -0.349,
          -0.349
         ]
        },
        {
         "error_z": {
          "array": [
           0,
           0,
           0,
           0,
           0,
           0,
           0,
           0,
           0
          ],
          "color": "darkgray",
          "thickness": 5,
          "type": "data",
          "width": 10
         },
         "hoverinfo": "text",
         "hoverlabel": {
          "font": {
           "size": 14
          }
         },
         "hovertext": [
          "Al<sub>0.4</sub>Ni<sub>0.6</sub> (None) <br> -0.577 eV/atom",
          "Fe (None) <br> 0.0 eV/atom",
          "Al<sub>0.6</sub>Ni<sub>0.4</sub> (None) <br> -0.732 eV/atom",
          "Al (None) <br> 0.0 eV/atom",
          "Al<sub>0.8</sub>Fe<sub>0.2</sub> (None) <br> -0.35 eV/atom",
          "Al<sub>0.2</sub>Fe<sub>0.8</sub> (None) <br> -0.185 eV/atom",
          "Al<sub>0.6</sub>Fe<sub>0.4</sub> (None) <br> -0.447 eV/atom",
          "Al<sub>0.2</sub>Ni<sub>0.8</sub> (None) <br> -0.38 eV/atom",
          "Ni (None) <br> 0.0 eV/atom"
         ],
         "marker": {
          "color": "black",
          "line": {
           "color": "black",
           "width": 3
          },
          "opacity": 0.8,
          "size": 12
         },
         "mode": "markers",
         "name": "Stable",
         "showlegend": true,
         "type": "scatter3d",
         "x": [
          0.5196152422706631,
          0,
          0.34641016151377546,
          0,
          0,
          0,
          0,
          0.6928203230275509,
          0.8660254037844386
         ],
         "y": [
          0.3,
          1,
          0.2,
          0,
          0.2,
          0.8,
          0.4,
          0.4,
          0.5
         ],
         "z": [
          -0.577,
          0,
          -0.732,
          0,
          -0.35,
          -0.185,
          -0.447,
          -0.38,
          0
         ]
        }
       ],
       "layout": {
        "autosize": true,
        "height": 700,
        "hovermode": "closest",
        "legend": {
         "orientation": "h",
         "traceorder": "reversed",
         "x": 0.5,
         "xanchor": "center",
         "y": 0,
         "yanchor": "top"
        },
        "margin": {
         "b": 10,
         "l": 0,
         "pad": 0,
         "r": 0,
         "t": 0
        },
        "paper_bgcolor": "rgba(0,0,0,0)",
        "plot_bgcolor": "rgba(0,0,0,0)",
        "scene": {
         "annotations": [
          {
           "align": "center",
           "font": {
            "color": "#000000",
            "size": 24
           },
           "opacity": 1,
           "showarrow": false,
           "text": "Fe",
           "x": 0,
           "xanchor": "right",
           "xshift": -10,
           "y": 1,
           "yanchor": "auto",
           "yshift": -10,
           "z": -0.6592293130606413
          },
          {
           "align": "center",
           "font": {
            "color": "#000000",
            "size": 24
           },
           "opacity": 1,
           "showarrow": false,
           "text": "Al",
           "x": 0,
           "xanchor": "right",
           "xshift": -10,
           "y": 0,
           "yanchor": "auto",
           "yshift": -10,
           "z": -0.6592293130606413
          },
          {
           "align": "center",
           "font": {
            "color": "#000000",
            "size": 24
           },
           "opacity": 1,
           "showarrow": false,
           "text": "Ni",
           "x": 0.8660254037844386,
           "xanchor": "right",
           "xshift": -10,
           "y": 0.5,
           "yanchor": "auto",
           "yshift": -10,
           "z": -0.6592293130606413
          },
          {
           "opacity": 0,
           "text": "",
           "x": 1,
           "y": 1,
           "z": 0
          }
         ],
         "aspectratio": {
          "x": 1.7,
          "y": 1.7,
          "z": 1.2
         },
         "camera": {
          "center": {
           "x": -0.1,
           "y": 0,
           "z": -0.15
          },
          "eye": {
           "x": -0.1,
           "y": 0,
           "z": 2.5
          },
          "projection": {
           "type": "orthographic"
          }
         },
         "xaxis": {
          "autorange": true,
          "showaxeslabels": false,
          "showgrid": false,
          "showline": false,
          "showspikes": false,
          "showticklabels": false,
          "ticks": "",
          "visible": false,
          "zeroline": false
         },
         "yaxis": {
          "autorange": true,
          "showaxeslabels": false,
          "showgrid": false,
          "showline": false,
          "showspikes": false,
          "showticklabels": false,
          "ticks": "",
          "visible": false,
          "zeroline": false
         },
         "zaxis": {
          "autorange": true,
          "showaxeslabels": false,
          "showgrid": false,
          "showline": false,
          "showspikes": false,
          "showticklabels": false,
          "ticks": "",
          "visible": false,
          "zeroline": false
         }
        },
        "showlegend": true,
        "template": {
         "data": {
          "bar": [
           {
            "error_x": {
             "color": "#2a3f5f"
            },
            "error_y": {
             "color": "#2a3f5f"
            },
            "marker": {
             "line": {
              "color": "#E5ECF6",
              "width": 0.5
             },
             "pattern": {
              "fillmode": "overlay",
              "size": 10,
              "solidity": 0.2
             }
            },
            "type": "bar"
           }
          ],
          "barpolar": [
           {
            "marker": {
             "line": {
              "color": "#E5ECF6",
              "width": 0.5
             },
             "pattern": {
              "fillmode": "overlay",
              "size": 10,
              "solidity": 0.2
             }
            },
            "type": "barpolar"
           }
          ],
          "carpet": [
           {
            "aaxis": {
             "endlinecolor": "#2a3f5f",
             "gridcolor": "white",
             "linecolor": "white",
             "minorgridcolor": "white",
             "startlinecolor": "#2a3f5f"
            },
            "baxis": {
             "endlinecolor": "#2a3f5f",
             "gridcolor": "white",
             "linecolor": "white",
             "minorgridcolor": "white",
             "startlinecolor": "#2a3f5f"
            },
            "type": "carpet"
           }
          ],
          "choropleth": [
           {
            "colorbar": {
             "outlinewidth": 0,
             "ticks": ""
            },
            "type": "choropleth"
           }
          ],
          "contour": [
           {
            "colorbar": {
             "outlinewidth": 0,
             "ticks": ""
            },
            "colorscale": [
             [
              0,
              "#0d0887"
             ],
             [
              0.1111111111111111,
              "#46039f"
             ],
             [
              0.2222222222222222,
              "#7201a8"
             ],
             [
              0.3333333333333333,
              "#9c179e"
             ],
             [
              0.4444444444444444,
              "#bd3786"
             ],
             [
              0.5555555555555556,
              "#d8576b"
             ],
             [
              0.6666666666666666,
              "#ed7953"
             ],
             [
              0.7777777777777778,
              "#fb9f3a"
             ],
             [
              0.8888888888888888,
              "#fdca26"
             ],
             [
              1,
              "#f0f921"
             ]
            ],
            "type": "contour"
           }
          ],
          "contourcarpet": [
           {
            "colorbar": {
             "outlinewidth": 0,
             "ticks": ""
            },
            "type": "contourcarpet"
           }
          ],
          "heatmap": [
           {
            "colorbar": {
             "outlinewidth": 0,
             "ticks": ""
            },
            "colorscale": [
             [
              0,
              "#0d0887"
             ],
             [
              0.1111111111111111,
              "#46039f"
             ],
             [
              0.2222222222222222,
              "#7201a8"
             ],
             [
              0.3333333333333333,
              "#9c179e"
             ],
             [
              0.4444444444444444,
              "#bd3786"
             ],
             [
              0.5555555555555556,
              "#d8576b"
             ],
             [
              0.6666666666666666,
              "#ed7953"
             ],
             [
              0.7777777777777778,
              "#fb9f3a"
             ],
             [
              0.8888888888888888,
              "#fdca26"
             ],
             [
              1,
              "#f0f921"
             ]
            ],
            "type": "heatmap"
           }
          ],
          "heatmapgl": [
           {
            "colorbar": {
             "outlinewidth": 0,
             "ticks": ""
            },
            "colorscale": [
             [
              0,
              "#0d0887"
             ],
             [
              0.1111111111111111,
              "#46039f"
             ],
             [
              0.2222222222222222,
              "#7201a8"
             ],
             [
              0.3333333333333333,
              "#9c179e"
             ],
             [
              0.4444444444444444,
              "#bd3786"
             ],
             [
              0.5555555555555556,
              "#d8576b"
             ],
             [
              0.6666666666666666,
              "#ed7953"
             ],
             [
              0.7777777777777778,
              "#fb9f3a"
             ],
             [
              0.8888888888888888,
              "#fdca26"
             ],
             [
              1,
              "#f0f921"
             ]
            ],
            "type": "heatmapgl"
           }
          ],
          "histogram": [
           {
            "marker": {
             "pattern": {
              "fillmode": "overlay",
              "size": 10,
              "solidity": 0.2
             }
            },
            "type": "histogram"
           }
          ],
          "histogram2d": [
           {
            "colorbar": {
             "outlinewidth": 0,
             "ticks": ""
            },
            "colorscale": [
             [
              0,
              "#0d0887"
             ],
             [
              0.1111111111111111,
              "#46039f"
             ],
             [
              0.2222222222222222,
              "#7201a8"
             ],
             [
              0.3333333333333333,
              "#9c179e"
             ],
             [
              0.4444444444444444,
              "#bd3786"
             ],
             [
              0.5555555555555556,
              "#d8576b"
             ],
             [
              0.6666666666666666,
              "#ed7953"
             ],
             [
              0.7777777777777778,
              "#fb9f3a"
             ],
             [
              0.8888888888888888,
              "#fdca26"
             ],
             [
              1,
              "#f0f921"
             ]
            ],
            "type": "histogram2d"
           }
          ],
          "histogram2dcontour": [
           {
            "colorbar": {
             "outlinewidth": 0,
             "ticks": ""
            },
            "colorscale": [
             [
              0,
              "#0d0887"
             ],
             [
              0.1111111111111111,
              "#46039f"
             ],
             [
              0.2222222222222222,
              "#7201a8"
             ],
             [
              0.3333333333333333,
              "#9c179e"
             ],
             [
              0.4444444444444444,
              "#bd3786"
             ],
             [
              0.5555555555555556,
              "#d8576b"
             ],
             [
              0.6666666666666666,
              "#ed7953"
             ],
             [
              0.7777777777777778,
              "#fb9f3a"
             ],
             [
              0.8888888888888888,
              "#fdca26"
             ],
             [
              1,
              "#f0f921"
             ]
            ],
            "type": "histogram2dcontour"
           }
          ],
          "mesh3d": [
           {
            "colorbar": {
             "outlinewidth": 0,
             "ticks": ""
            },
            "type": "mesh3d"
           }
          ],
          "parcoords": [
           {
            "line": {
             "colorbar": {
              "outlinewidth": 0,
              "ticks": ""
             }
            },
            "type": "parcoords"
           }
          ],
          "pie": [
           {
            "automargin": true,
            "type": "pie"
           }
          ],
          "scatter": [
           {
            "marker": {
             "colorbar": {
              "outlinewidth": 0,
              "ticks": ""
             }
            },
            "type": "scatter"
           }
          ],
          "scatter3d": [
           {
            "line": {
             "colorbar": {
              "outlinewidth": 0,
              "ticks": ""
             }
            },
            "marker": {
             "colorbar": {
              "outlinewidth": 0,
              "ticks": ""
             }
            },
            "type": "scatter3d"
           }
          ],
          "scattercarpet": [
           {
            "marker": {
             "colorbar": {
              "outlinewidth": 0,
              "ticks": ""
             }
            },
            "type": "scattercarpet"
           }
          ],
          "scattergeo": [
           {
            "marker": {
             "colorbar": {
              "outlinewidth": 0,
              "ticks": ""
             }
            },
            "type": "scattergeo"
           }
          ],
          "scattergl": [
           {
            "marker": {
             "colorbar": {
              "outlinewidth": 0,
              "ticks": ""
             }
            },
            "type": "scattergl"
           }
          ],
          "scattermapbox": [
           {
            "marker": {
             "colorbar": {
              "outlinewidth": 0,
              "ticks": ""
             }
            },
            "type": "scattermapbox"
           }
          ],
          "scatterpolar": [
           {
            "marker": {
             "colorbar": {
              "outlinewidth": 0,
              "ticks": ""
             }
            },
            "type": "scatterpolar"
           }
          ],
          "scatterpolargl": [
           {
            "marker": {
             "colorbar": {
              "outlinewidth": 0,
              "ticks": ""
             }
            },
            "type": "scatterpolargl"
           }
          ],
          "scatterternary": [
           {
            "marker": {
             "colorbar": {
              "outlinewidth": 0,
              "ticks": ""
             }
            },
            "type": "scatterternary"
           }
          ],
          "surface": [
           {
            "colorbar": {
             "outlinewidth": 0,
             "ticks": ""
            },
            "colorscale": [
             [
              0,
              "#0d0887"
             ],
             [
              0.1111111111111111,
              "#46039f"
             ],
             [
              0.2222222222222222,
              "#7201a8"
             ],
             [
              0.3333333333333333,
              "#9c179e"
             ],
             [
              0.4444444444444444,
              "#bd3786"
             ],
             [
              0.5555555555555556,
              "#d8576b"
             ],
             [
              0.6666666666666666,
              "#ed7953"
             ],
             [
              0.7777777777777778,
              "#fb9f3a"
             ],
             [
              0.8888888888888888,
              "#fdca26"
             ],
             [
              1,
              "#f0f921"
             ]
            ],
            "type": "surface"
           }
          ],
          "table": [
           {
            "cells": {
             "fill": {
              "color": "#EBF0F8"
             },
             "line": {
              "color": "white"
             }
            },
            "header": {
             "fill": {
              "color": "#C8D4E3"
             },
             "line": {
              "color": "white"
             }
            },
            "type": "table"
           }
          ]
         },
         "layout": {
          "annotationdefaults": {
           "arrowcolor": "#2a3f5f",
           "arrowhead": 0,
           "arrowwidth": 1
          },
          "autotypenumbers": "strict",
          "coloraxis": {
           "colorbar": {
            "outlinewidth": 0,
            "ticks": ""
           }
          },
          "colorscale": {
           "diverging": [
            [
             0,
             "#8e0152"
            ],
            [
             0.1,
             "#c51b7d"
            ],
            [
             0.2,
             "#de77ae"
            ],
            [
             0.3,
             "#f1b6da"
            ],
            [
             0.4,
             "#fde0ef"
            ],
            [
             0.5,
             "#f7f7f7"
            ],
            [
             0.6,
             "#e6f5d0"
            ],
            [
             0.7,
             "#b8e186"
            ],
            [
             0.8,
             "#7fbc41"
            ],
            [
             0.9,
             "#4d9221"
            ],
            [
             1,
             "#276419"
            ]
           ],
           "sequential": [
            [
             0,
             "#0d0887"
            ],
            [
             0.1111111111111111,
             "#46039f"
            ],
            [
             0.2222222222222222,
             "#7201a8"
            ],
            [
             0.3333333333333333,
             "#9c179e"
            ],
            [
             0.4444444444444444,
             "#bd3786"
            ],
            [
             0.5555555555555556,
             "#d8576b"
            ],
            [
             0.6666666666666666,
             "#ed7953"
            ],
            [
             0.7777777777777778,
             "#fb9f3a"
            ],
            [
             0.8888888888888888,
             "#fdca26"
            ],
            [
             1,
             "#f0f921"
            ]
           ],
           "sequentialminus": [
            [
             0,
             "#0d0887"
            ],
            [
             0.1111111111111111,
             "#46039f"
            ],
            [
             0.2222222222222222,
             "#7201a8"
            ],
            [
             0.3333333333333333,
             "#9c179e"
            ],
            [
             0.4444444444444444,
             "#bd3786"
            ],
            [
             0.5555555555555556,
             "#d8576b"
            ],
            [
             0.6666666666666666,
             "#ed7953"
            ],
            [
             0.7777777777777778,
             "#fb9f3a"
            ],
            [
             0.8888888888888888,
             "#fdca26"
            ],
            [
             1,
             "#f0f921"
            ]
           ]
          },
          "colorway": [
           "#636efa",
           "#EF553B",
           "#00cc96",
           "#ab63fa",
           "#FFA15A",
           "#19d3f3",
           "#FF6692",
           "#B6E880",
           "#FF97FF",
           "#FECB52"
          ],
          "font": {
           "color": "#2a3f5f"
          },
          "geo": {
           "bgcolor": "white",
           "lakecolor": "white",
           "landcolor": "#E5ECF6",
           "showlakes": true,
           "showland": true,
           "subunitcolor": "white"
          },
          "hoverlabel": {
           "align": "left"
          },
          "hovermode": "closest",
          "mapbox": {
           "style": "light"
          },
          "paper_bgcolor": "white",
          "plot_bgcolor": "#E5ECF6",
          "polar": {
           "angularaxis": {
            "gridcolor": "white",
            "linecolor": "white",
            "ticks": ""
           },
           "bgcolor": "#E5ECF6",
           "radialaxis": {
            "gridcolor": "white",
            "linecolor": "white",
            "ticks": ""
           }
          },
          "scene": {
           "xaxis": {
            "backgroundcolor": "#E5ECF6",
            "gridcolor": "white",
            "gridwidth": 2,
            "linecolor": "white",
            "showbackground": true,
            "ticks": "",
            "zerolinecolor": "white"
           },
           "yaxis": {
            "backgroundcolor": "#E5ECF6",
            "gridcolor": "white",
            "gridwidth": 2,
            "linecolor": "white",
            "showbackground": true,
            "ticks": "",
            "zerolinecolor": "white"
           },
           "zaxis": {
            "backgroundcolor": "#E5ECF6",
            "gridcolor": "white",
            "gridwidth": 2,
            "linecolor": "white",
            "showbackground": true,
            "ticks": "",
            "zerolinecolor": "white"
           }
          },
          "shapedefaults": {
           "line": {
            "color": "#2a3f5f"
           }
          },
          "ternary": {
           "aaxis": {
            "gridcolor": "white",
            "linecolor": "white",
            "ticks": ""
           },
           "baxis": {
            "gridcolor": "white",
            "linecolor": "white",
            "ticks": ""
           },
           "bgcolor": "#E5ECF6",
           "caxis": {
            "gridcolor": "white",
            "linecolor": "white",
            "ticks": ""
           }
          },
          "title": {
           "x": 0.05
          },
          "xaxis": {
           "automargin": true,
           "gridcolor": "white",
           "linecolor": "white",
           "ticks": "",
           "title": {
            "standoff": 15
           },
           "zerolinecolor": "white",
           "zerolinewidth": 2
          },
          "yaxis": {
           "automargin": true,
           "gridcolor": "white",
           "linecolor": "white",
           "ticks": "",
           "title": {
            "standoff": 15
           },
           "zerolinecolor": "white",
           "zerolinewidth": 2
          }
         }
        }
       }
      }
     },
     "metadata": {},
     "output_type": "display_data"
    }
   ],
   "source": [
    "# Load the data\n",
    "merged_df = pd.read_csv('poscar_concentrations_updated_with_Formation_H.csv')\n",
    "\n",
    "# Assuming the data contains 'Name', 'H_formation_column', and the concentration columns for elements\n",
    "name_column = merged_df['Name']  # Replace with the actual column name if different\n",
    "H_formation_column = 'Formation_H'  # Replace with the actual column name if different\n",
    "element_columns = [col for col in merged_df.columns if 'Concentration (%)' in col]\n",
    "\n",
    "# Create a list of ComputedEntry objects for Phase Diagram\n",
    "entries = []\n",
    "\n",
    "for _, row in merged_df.iterrows():\n",
    "    # Create a composition dictionary for the current entry\n",
    "    comp_dict = {element.split(' ')[0]: row[element] / 100 for element in element_columns if pd.notna(row[element])}\n",
    "    \n",
    "    # Create the Composition object\n",
    "    composition = Composition.from_dict(comp_dict)\n",
    "    \n",
    "    # Get the formation energy value\n",
    "    formation_energy = row[H_formation_column]\n",
    "    \n",
    "    # Create a ComputedEntry object\n",
    "    entry = ComputedEntry(composition, formation_energy)\n",
    "    entries.append(entry)\n",
    "\n",
    "\n",
    "\n",
    "# Create the phase diagram from the entries\n",
    "PD = PhaseDiagram(entries)\n",
    "\n",
    "# Plot the phase diagram using PDPlotter\n",
    "plotter = PDPlotter(PD, show_unstable=True)\n",
    "\n",
    "# Display the plot\n",
    "plotter.get_plot().show(dpi=300)\n"
   ]
  },
  {
   "cell_type": "markdown",
   "metadata": {},
   "source": [
    "## Get the POSCARS on the convex hull "
   ]
  },
  {
   "cell_type": "code",
   "execution_count": 9,
   "metadata": {},
   "outputs": [
    {
     "name": "stdout",
     "output_type": "stream",
     "text": [
      "                           Name  Composition  Formation Energy\n",
      "17     149_Al3Ni2_dilute.POSCAR  Al0.6 Ni0.4         -0.645543\n",
      "16     110_Al3Ni2_dilute.POSCAR  Al0.6 Ni0.4         -0.645543\n",
      "3   25_Al3Ni2_endmembers.POSCAR  Al0.4 Ni0.6         -0.465003\n",
      "0    2_Al3Ni2_endmembers.POSCAR  Al0.6 Fe0.4         -0.328355\n",
      "6       63_Al3Ni2_dilute.POSCAR  Al0.6 Fe0.4         -0.328355\n",
      "10     119_Al3Ni2_dilute.POSCAR  Al0.6 Fe0.4         -0.328355\n",
      "11      23_Al3Ni2_dilute.POSCAR  Al0.8 Fe0.2         -0.272587\n",
      "18       3_Al3Ni2_dilute.POSCAR  Al0.8 Fe0.2         -0.272587\n",
      "15     122_Al3Ni2_dilute.POSCAR  Al0.2 Ni0.8         -0.242845\n",
      "5      159_Al3Ni2_dilute.POSCAR  Al0.2 Ni0.8         -0.242845\n",
      "13      61_Al3Ni2_dilute.POSCAR  Al0.2 Fe0.8          0.014667\n",
      "19      81_Al3Ni2_dilute.POSCAR  Al0.2 Fe0.8          0.014667\n",
      "12      59_Al3Ni2_dilute.POSCAR          Al1          0.037190\n",
      "2    1_Al3Ni2_endmembers.POSCAR          Al1          0.037190\n",
      "8      113_Al3Ni2_dilute.POSCAR          Al1          0.037190\n",
      "7      104_Al3Ni2_dilute.POSCAR          Ni1          0.161551\n",
      "9       50_Al3Ni2_dilute.POSCAR          Ni1          0.161551\n",
      "14      25_Al3Ni2_dilute.POSCAR          Fe1          0.239928\n",
      "4      138_Al3Ni2_dilute.POSCAR          Fe1          0.239928\n",
      "1   14_Al3Ni2_endmembers.POSCAR          Fe1          0.239928\n"
     ]
    }
   ],
   "source": [
    "# Load your CSV file\n",
    "file_path = 'poscar_concentrations_updated_with_Formation_H.csv'  # Replace with your file path\n",
    "data = pd.read_csv(file_path)\n",
    "\n",
    "# Extract relevant columns\n",
    "composition_columns = ['Al Concentration (%)', 'Fe Concentration (%)', 'Ni Concentration (%)']\n",
    "formation_energy_column = 'Formation_H'\n",
    "\n",
    "# Prepare the entries for constructing the phase diagram\n",
    "entries = []\n",
    "for idx, row in data.iterrows():\n",
    "    # Create the composition from concentration percentages\n",
    "    composition_dict = {'Al': row['Al Concentration (%)'], \n",
    "                        'Fe': row['Fe Concentration (%)'], \n",
    "                        'Ni': row['Ni Concentration (%)']}\n",
    "    # Normalize to pymatgen's expected format (fractional)\n",
    "    total = sum(composition_dict.values())\n",
    "    composition = Composition({el: amount / total for el, amount in composition_dict.items() if amount > 0})\n",
    "    \n",
    "    # Get the formation enthalpy\n",
    "    formation_energy = row[formation_energy_column]\n",
    "    \n",
    "    # Create ComputedEntry\n",
    "    entry = ComputedEntry(composition, formation_energy)\n",
    "    entries.append(entry)\n",
    "\n",
    "# Construct the PhaseDiagram\n",
    "phase_diagram = PhaseDiagram(entries)\n",
    "\n",
    "# Extract the points on the convex hull\n",
    "hull_entries = phase_diagram.stable_entries\n",
    "\n",
    "# Extract data to report\n",
    "hull_data = [{'Name': data.loc[data.index == idx, 'Name'].values[0], \n",
    "              'Composition': str(entry.composition), \n",
    "              'Formation Energy': entry.energy_per_atom} \n",
    "             for idx, entry in enumerate(entries) if entry in hull_entries]\n",
    "\n",
    "# Create a DataFrame for easy viewing\n",
    "hull_df = pd.DataFrame(hull_data)\n",
    "sorted_data = hull_df.sort_values(by='Formation Energy', ascending=True)\n",
    "# Display the convex hull points\n",
    "print(sorted_data)\n",
    "sorted_data.to_csv('sorted_data_by_Formation_H.csv', index=False)\n"
   ]
  },
  {
   "cell_type": "markdown",
   "metadata": {},
   "source": [
    "## Save the POSCARs on the convex hull in the directory"
   ]
  },
  {
   "cell_type": "code",
   "execution_count": 10,
   "metadata": {},
   "outputs": [
    {
     "name": "stdout",
     "output_type": "stream",
     "text": [
      "POSCARs saved in the directory.\n"
     ]
    }
   ],
   "source": [
    "# Load the CSV file\n",
    "file_path = 'sorted_data_by_Formation_H.csv'\n",
    "df = pd.read_csv(file_path)\n",
    "\n",
    "# Define source directories\n",
    "source_folder_endmembers = endmembers\n",
    "source_folder_dilute = dilute\n",
    "# Define the destination directory\n",
    "destination_folder = 'POSCAR_on_the_convex_hull'\n",
    "\n",
    "# Ensure the destination folder exists, if not, create it\n",
    "os.makedirs(destination_folder, exist_ok=True)\n",
    "\n",
    "# Iterate over the dataframe to copy files\n",
    "for index, row in df.iterrows():\n",
    "    file_name = row['Name']\n",
    "    \n",
    "    # Determine the source folder based on the name pattern in the CSV\n",
    "    if endmembers in file_name:\n",
    "        source_path = os.path.join(source_folder_endmembers, file_name)\n",
    "    elif dilute in file_name:\n",
    "        source_path = os.path.join(source_folder_dilute, file_name)\n",
    "    else:\n",
    "        continue  # Skip if the path doesn't match the expected folders\n",
    "    \n",
    "    # Define the destination path\n",
    "    destination_path = os.path.join(destination_folder, file_name)\n",
    "    \n",
    "    # Copy the file if it exists\n",
    "    if os.path.exists(source_path):\n",
    "        shutil.copyfile(source_path, destination_path)\n",
    "    else:\n",
    "        print(f\"Warning: Source file {source_path} does not exist.\")\n",
    "\n",
    "print(\"POSCARs saved in the directory.\")\n"
   ]
  }
 ],
 "metadata": {
  "kernelspec": {
   "display_name": "pysipfenn",
   "language": "python",
   "name": "python3"
  },
  "language_info": {
   "codemirror_mode": {
    "name": "ipython",
    "version": 3
   },
   "file_extension": ".py",
   "mimetype": "text/x-python",
   "name": "python",
   "nbconvert_exporter": "python",
   "pygments_lexer": "ipython3",
   "version": "3.9.7"
  },
  "orig_nbformat": 4
 },
 "nbformat": 4,
 "nbformat_minor": 2
}
